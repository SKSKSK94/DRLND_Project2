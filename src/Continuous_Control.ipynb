{
 "cells": [
  {
   "cell_type": "code",
   "execution_count": 1,
   "source": [
    "import torch\n",
    "from unityagents import UnityEnvironment\n",
    "import numpy as np\n",
    "from TD3_agent import Agent\n",
    "import matplotlib.pyplot as plt"
   ],
   "outputs": [],
   "metadata": {}
  },
  {
   "cell_type": "markdown",
   "source": [
    "'''\n",
    "Next, we will start the environment!  **_Before running the code cell below_**, change the `file_name` parameter to match the location of the Unity environment that you downloaded.\n",
    "\n",
    "- **Mac**: `\"path/to/Reacher.app\"`\n",
    "- **Windows** (x86): `\"path/to/Reacher_Windows_x86/Reacher.exe\"`\n",
    "- **Windows** (x86_64): `\"path/to/Reacher_Windows_x86_64/Reacher.exe\"`\n",
    "- **Linux** (x86): `\"path/to/Reacher_Linux/Reacher.x86\"`\n",
    "- **Linux** (x86_64): `\"path/to/Reacher_Linux/Reacher.x86_64\"`\n",
    "- **Linux** (x86, headless): `\"path/to/Reacher_Linux_NoVis/Reacher.x86\"`\n",
    "- **Linux** (x86_64, headless): `\"path/to/Reacher_Linux_NoVis/Reacher.x86_64\"`\n",
    "\n",
    "For instance, if you are using a Mac, then you downloaded `Reacher.app`.  If this file is in the same folder as the notebook, then the line below should appear as follows:\n",
    "env = UnityEnvironment(file_name=\"Reacher.app\")\n",
    "'''"
   ],
   "metadata": {}
  },
  {
   "cell_type": "code",
   "execution_count": 2,
   "source": [
    "env = UnityEnvironment(file_name='../Reacher_Linux/Reacher.x86')"
   ],
   "outputs": [
    {
     "output_type": "stream",
     "name": "stderr",
     "text": [
      "INFO:unityagents:\n",
      "'Academy' started successfully!\n",
      "Unity Academy name: Academy\n",
      "        Number of Brains: 1\n",
      "        Number of External Brains : 1\n",
      "        Lesson number : 0\n",
      "        Reset Parameters :\n",
      "\t\tgoal_speed -> 1.0\n",
      "\t\tgoal_size -> 5.0\n",
      "Unity brain name: ReacherBrain\n",
      "        Number of Visual Observations (per agent): 0\n",
      "        Vector Observation space type: continuous\n",
      "        Vector Observation space size (per agent): 33\n",
      "        Number of stacked Vector Observation: 1\n",
      "        Vector Action space type: continuous\n",
      "        Vector Action space size (per agent): 4\n",
      "        Vector Action descriptions: , , , \n"
     ]
    }
   ],
   "metadata": {}
  },
  {
   "cell_type": "markdown",
   "source": [
    "if you want to see agent's action slowly to see the result of 100 consecutive rewards,\n",
    "then set mode = 'slow'\n",
    "else if fastly, mode = 'fast'"
   ],
   "metadata": {}
  },
  {
   "cell_type": "code",
   "execution_count": 3,
   "source": [
    "########################################## setting ##########################################\n",
    "state = 'Train'\n",
    "# state = 'Test'\n",
    "\n",
    "# mode = 'slow'\n",
    "mode = 'fast'\n",
    "########################################## setting ##########################################"
   ],
   "outputs": [],
   "metadata": {}
  },
  {
   "cell_type": "code",
   "execution_count": 4,
   "source": [
    "agent = Agent(env=env, random_seed=18)\n",
    "if state == 'Train':\n",
    "    scores = agent.train(n_episodes=3000, max_t=3000)\n",
    "    plt.plot(scores)\n",
    "else: # Test     \n",
    "    agent.actor_local.load_state_dict(torch.load('../saved_model/saved_TD3_actor.pth'))\n",
    "    agent.critic_local_1.load_state_dict(torch.load('../saved_model/saved_TD3_critic_1.pth'))\n",
    "    agent.critic_local_2.load_state_dict(torch.load('../saved_model/saved_TD3_critic_2.pth'))\n",
    "    print('====================================')\n",
    "    print('Sucessfully loaded')\n",
    "    print('====================================')\n",
    "\n",
    "    score_test = []                                  \n",
    "    for test_episode in range(1, 100+1):\n",
    "        train_mode = True if mode == 'fast' else False\n",
    "        env_info = agent.env.reset(train_mode=train_mode)[agent.brain_name]      # reset the environment\n",
    "        state = env_info.vector_observations                         # get the current state\n",
    "        score_temp = 0.                                              # initialize the score\n",
    "        while True:\n",
    "            action = agent.act(state, add_noise=False)               # select an action\n",
    "            env_info = env.step(action)[agent.brain_name]            # send the action to the environment\n",
    "            next_state = env_info.vector_observations                # get the next state\n",
    "            reward = env_info.rewards                                # get the reward\n",
    "            done = env_info.local_done                               # see if episode has finished\n",
    "            score_temp += np.mean(reward)                            # update the score\n",
    "            state = next_state                                       # roll over the state to next time step\n",
    "            if any(done):                                            # exit loop if episode finished\n",
    "                score_test.append(score_temp)\n",
    "                print('\\rEpisode {}\\tAverage Score: {:.2f}'.format(test_episode, np.mean(score_test)), end=\"\")\n",
    "                score_temp = 0.\n",
    "                break\n",
    "        \n",
    "    print(\"\\nFinal Score: {}\".format(np.mean(score_test)))\n",
    "    agent.env.close()"
   ],
   "outputs": [
    {
     "output_type": "stream",
     "name": "stdout",
     "text": [
      "Episode 10\tAverage Score : 0.62 \t eps : 0.990\n",
      "Episode 20\tAverage Score : 0.80 \t eps : 0.980\n",
      "Episode 30\tAverage Score : 0.84 \t eps : 0.969\n",
      "Episode 40\tAverage Score : 0.90 \t eps : 0.959\n",
      "Episode 50\tAverage Score : 0.95 \t eps : 0.949\n",
      "Episode 60\tAverage Score : 1.05 \t eps : 0.939\n",
      "Episode 70\tAverage Score : 1.19 \t eps : 0.929\n",
      "Episode 80\tAverage Score : 1.35 \t eps : 0.918\n",
      "Episode 90\tAverage Score : 1.45 \t eps : 0.908\n",
      "Episode 100\tAverage Score : 1.63 \t eps : 0.898\n",
      "Episode 110\tAverage Score : 1.90 \t eps : 0.888\n",
      "Episode 120\tAverage Score : 2.27 \t eps : 0.878\n",
      "Episode 130\tAverage Score : 2.65 \t eps : 0.867\n",
      "Episode 140\tAverage Score : 3.05 \t eps : 0.857\n",
      "Episode 150\tAverage Score : 3.66 \t eps : 0.847\n",
      "Episode 160\tAverage Score : 4.40 \t eps : 0.837\n",
      "Episode 170\tAverage Score : 5.26 \t eps : 0.827\n",
      "Episode 180\tAverage Score : 6.80 \t eps : 0.816\n",
      "Episode 190\tAverage Score : 8.92 \t eps : 0.806\n",
      "Episode 200\tAverage Score : 11.36 \t eps : 0.796\n",
      "Episode 210\tAverage Score : 13.82 \t eps : 0.786\n",
      "Episode 220\tAverage Score : 16.54 \t eps : 0.776\n",
      "Episode 230\tAverage Score : 19.40 \t eps : 0.765\n",
      "Episode 240\tAverage Score : 22.38 \t eps : 0.755\n",
      "Episode 250\tAverage Score : 25.36 \t eps : 0.745\n",
      "Episode 260\tAverage Score : 28.15 \t eps : 0.735\n",
      "Episode 267\tAverage Score : 30.08 \t eps : 0.728\n",
      "Environment solved in 167 episodes!\tAverage Score: 30.08\n"
     ]
    },
    {
     "output_type": "display_data",
     "data": {
      "text/plain": [
       "<Figure size 432x288 with 1 Axes>"
      ],
      "image/png": "[encoded data removed]"
     },
     "metadata": {
      "needs_background": "light"
     }
    }
   ],
   "metadata": {}
  },
  {
   "cell_type": "code",
   "execution_count": null,
   "source": [],
   "outputs": [],
   "metadata": {}
  }
 ],
 "metadata": {
  "orig_nbformat": 4,
  "language_info": {
   "name": "python"
  }
 },
 "nbformat": 4,
 "nbformat_minor": 2
}